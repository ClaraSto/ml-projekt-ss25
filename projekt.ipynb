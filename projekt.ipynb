{
 "cells": [
  {
   "cell_type": "markdown",
   "id": "55e0fcde",
   "metadata": {},
   "source": [
    "1. Laden Sie die Trainingsdaten."
   ]
  },
  {
   "cell_type": "markdown",
   "id": "6261c3d1",
   "metadata": {},
   "source": [
    "2. Führen Sie eine kurze EDA durch (Details auf Folie 13)."
   ]
  },
  {
   "cell_type": "code",
   "execution_count": null,
   "id": "8bae0196",
   "metadata": {
    "vscode": {
     "languageId": "plaintext"
    }
   },
   "outputs": [],
   "source": [
    "3. Füllen Sie fehlende Werte in den Trainingsdaten auf."
   ]
  },
  {
   "cell_type": "code",
   "execution_count": null,
   "id": "d78fe3a5",
   "metadata": {
    "vscode": {
     "languageId": "plaintext"
    }
   },
   "outputs": [],
   "source": [
    "4. Transformieren Sie die kategorischen Features mittels One-hot-encoding."
   ]
  },
  {
   "cell_type": "code",
   "execution_count": null,
   "id": "b66ba1dd",
   "metadata": {
    "vscode": {
     "languageId": "plaintext"
    }
   },
   "outputs": [],
   "source": [
    "5. Versuchen Sie auf Basis des Attributs basket Features zu bauen (z.B. wie oft\n",
    "kommt jede Kategorie im Basket vor)"
   ]
  },
  {
   "cell_type": "markdown",
   "id": "9684203c",
   "metadata": {},
   "source": [
    "6. Skalieren Sie die Features mit einem StandardScaler."
   ]
  },
  {
   "cell_type": "markdown",
   "id": "04fe6721",
   "metadata": {},
   "source": [
    "7. Trainieren Sie die folgenden Klassifikationsmodelle und probieren Sie die\n",
    "angegebenen Hyperparameter mittels Cross-Validation aus:\n",
    "    1. Logistische Regression: C :[0.1,1,4,5,6,10,30,100] und penalty: [\"l1\", \"l2\"]\n",
    "    2. Random Forest: n_estimators: [60,80,100,120,140] und max_depth: [2, 4, 6]\n",
    "    3. Gradient Boosting Tree: gleiche Hyperparameter wie bei Random Forest."
   ]
  },
  {
   "cell_type": "code",
   "execution_count": null,
   "id": "db8ba834",
   "metadata": {
    "vscode": {
     "languageId": "plaintext"
    }
   },
   "outputs": [],
   "source": [
    "8. Laden Sie die Testdaten"
   ]
  },
  {
   "cell_type": "code",
   "execution_count": null,
   "id": "2ec556cf",
   "metadata": {
    "vscode": {
     "languageId": "plaintext"
    }
   },
   "outputs": [],
   "source": [
    "9. Entfernen Sie alle Zeilen mit fehlenden Werten"
   ]
  },
  {
   "cell_type": "code",
   "execution_count": null,
   "id": "50d55025",
   "metadata": {
    "vscode": {
     "languageId": "plaintext"
    }
   },
   "outputs": [],
   "source": [
    "10. Transformieren Sie die Attribute genauso wie bei den Trainingsdaten."
   ]
  },
  {
   "cell_type": "code",
   "execution_count": null,
   "id": "6834b62d",
   "metadata": {
    "vscode": {
     "languageId": "plaintext"
    }
   },
   "outputs": [],
   "source": [
    "11. Skalieren Sie die Daten im gleichem Maß wie die Trainingsdaten"
   ]
  },
  {
   "cell_type": "code",
   "execution_count": null,
   "id": "3b50c780",
   "metadata": {
    "vscode": {
     "languageId": "plaintext"
    }
   },
   "outputs": [],
   "source": [
    "12. Machen Sie eine Vorhersage auf den Testdaten mit allen drei Modellen und den\n",
    "jeweils besten Hyperparametern aus der Cross Validation."
   ]
  },
  {
   "cell_type": "code",
   "execution_count": null,
   "id": "efb0dfed",
   "metadata": {
    "vscode": {
     "languageId": "plaintext"
    }
   },
   "outputs": [],
   "source": [
    "13. Berechnen Sie für jedes der drei Modell Accuracy, Precision und Recall."
   ]
  },
  {
   "cell_type": "code",
   "execution_count": null,
   "id": "49c02935",
   "metadata": {
    "vscode": {
     "languageId": "plaintext"
    }
   },
   "outputs": [],
   "source": [
    "14. Berechnen Sie außerdem die Accuracy auf den Trainingsdaten und vergleichen Sie\n",
    "Accuracy auf Trainings- und Testdaten. Liegt Overfitting vor? (Unterschied > 5%)"
   ]
  },
  {
   "cell_type": "code",
   "execution_count": null,
   "id": "84f0201c",
   "metadata": {
    "vscode": {
     "languageId": "plaintext"
    }
   },
   "outputs": [],
   "source": [
    "5. Untersuchen Sie wieviele Datenpunkte es in den Testdaten gibt, welche von allen\n",
    "drei Modellen falsch klassifiziert wurden:\n",
    "    1. Bestimmen Sie für jedes der drei Modelle die Indizes der Testdatenpunkte auf\n",
    "    welchen das jeweilige Modell falsch klassifiziert hat.\n",
    "    2. Nutzen Sie die set-Klasse in Python um die Anzahl an Datenpunkten zu\n",
    "    bestimmen, welche von allen drei Modellen falsch klassifiziert wurden."
   ]
  },
  {
   "cell_type": "code",
   "execution_count": null,
   "id": "fcb2172b",
   "metadata": {
    "vscode": {
     "languageId": "plaintext"
    }
   },
   "outputs": [],
   "source": [
    "16. Vergleichen Sie die Feature-Importances der drei Modelle in einem Plot"
   ]
  }
 ],
 "metadata": {
  "language_info": {
   "name": "python"
  }
 },
 "nbformat": 4,
 "nbformat_minor": 5
}
